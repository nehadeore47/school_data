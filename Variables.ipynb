{
 "cells": [
  {
   "cell_type": "markdown",
   "id": "1537a26c",
   "metadata": {},
   "source": [
    "# Features of Python"
   ]
  },
  {
   "cell_type": "code",
   "execution_count": null,
   "id": "f9d1e0d4",
   "metadata": {},
   "outputs": [],
   "source": [
    "1. Programmer friendly Language (Easy to write, learn, read)\n",
    "2. Free and open source\n",
    "3. Simple to debug\n",
    "4. Vast library support \n",
    "5. Dynamically typed Language(do not need to specify data type)\n",
    "6. Object Oriented Programming Language (OOPs), High level programming\n",
    "7. Python Interpreted Language (do not require prior compilation)"
   ]
  },
  {
   "cell_type": "code",
   "execution_count": 2,
   "id": "b8110783",
   "metadata": {},
   "outputs": [
    {
     "name": "stdout",
     "output_type": "stream",
     "text": [
      "<class 'int'>\n"
     ]
    }
   ],
   "source": [
    "a = 5 , int\n",
    "print(type(a))"
   ]
  },
  {
   "cell_type": "code",
   "execution_count": 3,
   "id": "338aa2af",
   "metadata": {},
   "outputs": [
    {
     "ename": "NameError",
     "evalue": "name 'hi' is not defined",
     "output_type": "error",
     "traceback": [
      "\u001b[1;31m---------------------------------------------------------------------------\u001b[0m",
      "\u001b[1;31mNameError\u001b[0m                                 Traceback (most recent call last)",
      "Input \u001b[1;32mIn [3]\u001b[0m, in \u001b[0;36m<cell line: 3>\u001b[1;34m()\u001b[0m\n\u001b[0;32m      1\u001b[0m a \u001b[38;5;241m=\u001b[39m \u001b[38;5;241m1\u001b[39m\n\u001b[0;32m      2\u001b[0m b \u001b[38;5;241m=\u001b[39m \u001b[38;5;241m2\u001b[39m \n\u001b[1;32m----> 3\u001b[0m c \u001b[38;5;241m=\u001b[39m \u001b[43mhi\u001b[49m\n\u001b[0;32m      4\u001b[0m d \u001b[38;5;241m=\u001b[39m \u001b[38;5;241m3\u001b[39m\n",
      "\u001b[1;31mNameError\u001b[0m: name 'hi' is not defined"
     ]
    }
   ],
   "source": [
    "a = 1\n",
    "b = 2 \n",
    "c = hi\n",
    "d = 3"
   ]
  },
  {
   "cell_type": "code",
   "execution_count": 8,
   "id": "78fa153a",
   "metadata": {},
   "outputs": [
    {
     "data": {
      "text/plain": [
       "2"
      ]
     },
     "execution_count": 8,
     "metadata": {},
     "output_type": "execute_result"
    }
   ],
   "source": [
    "b"
   ]
  },
  {
   "cell_type": "code",
   "execution_count": 9,
   "id": "c46381d1",
   "metadata": {},
   "outputs": [
    {
     "data": {
      "text/plain": [
       "2"
      ]
     },
     "execution_count": 9,
     "metadata": {},
     "output_type": "execute_result"
    }
   ],
   "source": [
    "a = 1\n",
    "b = 2 \n",
    "c = b\n",
    "d = 3\n",
    "c"
   ]
  },
  {
   "cell_type": "markdown",
   "id": "9d00bd79",
   "metadata": {},
   "source": [
    "## Types of Variables"
   ]
  },
  {
   "cell_type": "code",
   "execution_count": null,
   "id": "a70e4a09",
   "metadata": {},
   "outputs": [],
   "source": [
    "1. Global Variable\n",
    "2. Local Variable"
   ]
  },
  {
   "cell_type": "code",
   "execution_count": 25,
   "id": "b443cd5d",
   "metadata": {},
   "outputs": [
    {
     "name": "stdout",
     "output_type": "stream",
     "text": [
      "Val of a + x is : 600\n",
      "500\n"
     ]
    },
    {
     "ename": "NameError",
     "evalue": "name 'x' is not defined",
     "output_type": "error",
     "traceback": [
      "\u001b[1;31m---------------------------------------------------------------------------\u001b[0m",
      "\u001b[1;31mNameError\u001b[0m                                 Traceback (most recent call last)",
      "Input \u001b[1;32mIn [25]\u001b[0m, in \u001b[0;36m<cell line: 12>\u001b[1;34m()\u001b[0m\n\u001b[0;32m      9\u001b[0m my_fun()       \u001b[38;5;66;03m# calling the function\u001b[39;00m\n\u001b[0;32m     11\u001b[0m \u001b[38;5;28mprint\u001b[39m(a)\n\u001b[1;32m---> 12\u001b[0m \u001b[38;5;28mprint\u001b[39m(\u001b[43mx\u001b[49m)\n",
      "\u001b[1;31mNameError\u001b[0m: name 'x' is not defined"
     ]
    }
   ],
   "source": [
    "# User defined function\n",
    "\n",
    "a = 500 # global var\n",
    "\n",
    "def my_fun(): # user define function\n",
    "    x = 100   # local var\n",
    "    print('Val of a + x is :', a+x)\n",
    "    \n",
    "my_fun()       # calling the function\n",
    "\n",
    "print(a)\n",
    "print(x)"
   ]
  },
  {
   "cell_type": "code",
   "execution_count": 29,
   "id": "6e1d67e8",
   "metadata": {},
   "outputs": [
    {
     "name": "stdout",
     "output_type": "stream",
     "text": [
      "Val of a + x is : 500\n",
      "400\n",
      "50\n"
     ]
    }
   ],
   "source": [
    "# User defined function\n",
    "\n",
    "a = 400 # global var\n",
    "x = 50\n",
    "\n",
    "def my_fun(): # user define function\n",
    "    x = 100   # local var\n",
    "    print('Val of a + x is :', a+x)\n",
    "    \n",
    "my_fun()       # calling the function\n",
    "\n",
    "print(a)\n",
    "print(x)"
   ]
  },
  {
   "cell_type": "code",
   "execution_count": 30,
   "id": "eb738fe6",
   "metadata": {},
   "outputs": [
    {
     "name": "stdout",
     "output_type": "stream",
     "text": [
      "10 20 30\n"
     ]
    }
   ],
   "source": [
    "x = 10 \n",
    "y = 20 \n",
    "z = 30\n",
    "print(x , y , z)"
   ]
  },
  {
   "cell_type": "code",
   "execution_count": 32,
   "id": "cbe7a80c",
   "metadata": {},
   "outputs": [
    {
     "name": "stdout",
     "output_type": "stream",
     "text": [
      "10 \n",
      "\n",
      "20\n"
     ]
    }
   ],
   "source": [
    "x = 10 \n",
    "y = 20 \n",
    "z = 30\n",
    "print(x, '\\n')\n",
    "print(y)"
   ]
  },
  {
   "cell_type": "code",
   "execution_count": 35,
   "id": "97e96daf",
   "metadata": {},
   "outputs": [
    {
     "name": "stdout",
     "output_type": "stream",
     "text": [
      "10 \n",
      "\n",
      "\n",
      "\n",
      "\n",
      "20\n"
     ]
    }
   ],
   "source": [
    "x = 10 \n",
    "y = 20 \n",
    "z = 30\n",
    "print(x, '\\n\\n\\n')\n",
    "print()\n",
    "print(y)"
   ]
  },
  {
   "cell_type": "code",
   "execution_count": 39,
   "id": "3dc3be0f",
   "metadata": {},
   "outputs": [
    {
     "name": "stdout",
     "output_type": "stream",
     "text": [
      "10 \n",
      "\n",
      "\t 20\n",
      "30\n"
     ]
    }
   ],
   "source": [
    "x = 10 \n",
    "y = 20 \n",
    "z = 30\n",
    "print(x, '\\n')\n",
    "print('\\t',y)\n",
    "print(z)"
   ]
  },
  {
   "cell_type": "code",
   "execution_count": 43,
   "id": "68b7f1ca",
   "metadata": {},
   "outputs": [
    {
     "name": "stdout",
     "output_type": "stream",
     "text": [
      "10 \n",
      "\n",
      "\t 20 30\n"
     ]
    }
   ],
   "source": [
    "x = 10 \n",
    "y = 20 \n",
    "z = 30\n",
    "print(x, '\\n')\n",
    "print('\\t',y, end = ' ')\n",
    "print(z)"
   ]
  },
  {
   "cell_type": "code",
   "execution_count": 44,
   "id": "d7ac4023",
   "metadata": {},
   "outputs": [
    {
     "name": "stdout",
     "output_type": "stream",
     "text": [
      "10 \n",
      "\n",
      "\t 2030\n"
     ]
    }
   ],
   "source": [
    "x = 10 \n",
    "y = 20 \n",
    "z = 30\n",
    "print(x, '\\n')\n",
    "print('\\t',y, end = '')\n",
    "print(z)"
   ]
  },
  {
   "cell_type": "code",
   "execution_count": 46,
   "id": "146a34f8",
   "metadata": {},
   "outputs": [
    {
     "name": "stdout",
     "output_type": "stream",
     "text": [
      "10 \n",
      " 20\n"
     ]
    }
   ],
   "source": [
    "x = 10 \n",
    "y = 20 \n",
    "z = 30\n",
    "print(x, '\\n',y)"
   ]
  },
  {
   "cell_type": "code",
   "execution_count": 48,
   "id": "81d5da8d",
   "metadata": {},
   "outputs": [
    {
     "name": "stdout",
     "output_type": "stream",
     "text": [
      "10 20\n"
     ]
    }
   ],
   "source": [
    "print(x,y)"
   ]
  },
  {
   "cell_type": "code",
   "execution_count": 54,
   "id": "b33bcea3",
   "metadata": {},
   "outputs": [
    {
     "name": "stdout",
     "output_type": "stream",
     "text": [
      "10 hi 20\n"
     ]
    }
   ],
   "source": [
    "x = 10 \n",
    "y = 20 \n",
    "z = 30\n",
    "print(x, end = ' hi ')\n",
    "print(y)"
   ]
  },
  {
   "cell_type": "code",
   "execution_count": null,
   "id": "2c55c786",
   "metadata": {},
   "outputs": [],
   "source": [
    "# import pandas as pd\n",
    "# pd.read_csv()  >> shft  + tab ( + tab)   # documentation"
   ]
  },
  {
   "cell_type": "markdown",
   "id": "7b5aea6f",
   "metadata": {},
   "source": [
    "## String Formatting"
   ]
  },
  {
   "cell_type": "markdown",
   "id": "8570298c",
   "metadata": {},
   "source": [
    "### f-string"
   ]
  },
  {
   "cell_type": "code",
   "execution_count": 58,
   "id": "0f4dc119",
   "metadata": {},
   "outputs": [
    {
     "name": "stdout",
     "output_type": "stream",
     "text": [
      "x ==  100 ,y ==  200 ,z ==  300\n"
     ]
    }
   ],
   "source": [
    "x = 100\n",
    "\n",
    "y = 200\n",
    "\n",
    "z = 300\n",
    "\n",
    "print('x == ',x, ',y == ',y, ',z == ',z)"
   ]
  },
  {
   "cell_type": "code",
   "execution_count": 67,
   "id": "e5f7599b",
   "metadata": {},
   "outputs": [
    {
     "name": "stdout",
     "output_type": "stream",
     "text": [
      "x == 100, y == 200, z == 300\n"
     ]
    }
   ],
   "source": [
    "x = 100\n",
    "\n",
    "y = 200\n",
    "\n",
    "z = 300\n",
    "\n",
    "print(f'x == {x}, y == {y}, z == {z}')"
   ]
  },
  {
   "cell_type": "code",
   "execution_count": 69,
   "id": "178e55b8",
   "metadata": {},
   "outputs": [
    {
     "name": "stdout",
     "output_type": "stream",
     "text": [
      "x == 100, y == 200, z == 300, x+y+z == 600\n"
     ]
    }
   ],
   "source": [
    "x = 100\n",
    "\n",
    "y = 200\n",
    "\n",
    "z = 300\n",
    "\n",
    "print(f'x == {x}, y == {y}, z == {z}, x+y+z == {x+y+z}')"
   ]
  },
  {
   "cell_type": "code",
   "execution_count": 70,
   "id": "9454a15b",
   "metadata": {},
   "outputs": [
    {
     "name": "stdout",
     "output_type": "stream",
     "text": [
      "z == 100, x == 200, y == 300, x+y+z == 600\n"
     ]
    }
   ],
   "source": [
    "x = 100\n",
    "\n",
    "y = 200\n",
    "\n",
    "z = 300\n",
    "\n",
    "print(f'z == {x}, x == {y}, y == {z}, x+y+z == {x+y+z}')"
   ]
  },
  {
   "cell_type": "markdown",
   "id": "16492980",
   "metadata": {},
   "source": [
    "## .format"
   ]
  },
  {
   "cell_type": "code",
   "execution_count": 77,
   "id": "ce1a1e47",
   "metadata": {},
   "outputs": [
    {
     "name": "stdout",
     "output_type": "stream",
     "text": [
      "x == 100, y == 200, z == 300 \n"
     ]
    }
   ],
   "source": [
    "x = 100\n",
    "\n",
    "y = 200\n",
    "\n",
    "z = 300\n",
    "\n",
    "print('x == {}, y == {}, z == {} '.format(x,y,z))"
   ]
  },
  {
   "cell_type": "code",
   "execution_count": 78,
   "id": "939f4a6a",
   "metadata": {},
   "outputs": [
    {
     "name": "stdout",
     "output_type": "stream",
     "text": [
      "x == 100, y == 200, z == 300, x+y+z == 600 \n"
     ]
    }
   ],
   "source": [
    "x = 100\n",
    "\n",
    "y = 200\n",
    "\n",
    "z = 300\n",
    "\n",
    "print('x == {}, y == {}, z == {}, x+y+z == {} '.format(x,y,z, x+y+z))"
   ]
  },
  {
   "cell_type": "code",
   "execution_count": null,
   "id": "71c3a822",
   "metadata": {},
   "outputs": [],
   "source": []
  },
  {
   "cell_type": "code",
   "execution_count": 80,
   "id": "d53ede83",
   "metadata": {},
   "outputs": [
    {
     "name": "stdout",
     "output_type": "stream",
     "text": [
      "a == 10\n"
     ]
    }
   ],
   "source": [
    "a = 10\n",
    "print('a == %d' %a)     # %d >> for int"
   ]
  },
  {
   "cell_type": "code",
   "execution_count": 81,
   "id": "f30b9f53",
   "metadata": {},
   "outputs": [
    {
     "name": "stdout",
     "output_type": "stream",
     "text": [
      "b == 5.500000\n"
     ]
    }
   ],
   "source": [
    "a = 10\n",
    "b = 5.5\n",
    "print('b == %f' %b)     # %f >> for float"
   ]
  },
  {
   "cell_type": "code",
   "execution_count": 82,
   "id": "d0c63430",
   "metadata": {},
   "outputs": [
    {
     "name": "stdout",
     "output_type": "stream",
     "text": [
      "b == 10.000000\n"
     ]
    }
   ],
   "source": [
    "a = 10\n",
    "b = 5.5\n",
    "print('b == %f' %a)     # %f >> for float"
   ]
  },
  {
   "cell_type": "code",
   "execution_count": 83,
   "id": "2388596b",
   "metadata": {},
   "outputs": [
    {
     "name": "stdout",
     "output_type": "stream",
     "text": [
      "c == 20\n"
     ]
    }
   ],
   "source": [
    "a = 10\n",
    "b = 5.5\n",
    "c = '20'\n",
    "print('c == %s' %c)     # %s >> for str"
   ]
  },
  {
   "cell_type": "code",
   "execution_count": 84,
   "id": "b83dc43a",
   "metadata": {},
   "outputs": [
    {
     "ename": "TypeError",
     "evalue": "%d format: a real number is required, not str",
     "output_type": "error",
     "traceback": [
      "\u001b[1;31m---------------------------------------------------------------------------\u001b[0m",
      "\u001b[1;31mTypeError\u001b[0m                                 Traceback (most recent call last)",
      "Input \u001b[1;32mIn [84]\u001b[0m, in \u001b[0;36m<cell line: 4>\u001b[1;34m()\u001b[0m\n\u001b[0;32m      2\u001b[0m b \u001b[38;5;241m=\u001b[39m \u001b[38;5;241m5.5\u001b[39m\n\u001b[0;32m      3\u001b[0m c \u001b[38;5;241m=\u001b[39m \u001b[38;5;124m'\u001b[39m\u001b[38;5;124m20\u001b[39m\u001b[38;5;124m'\u001b[39m\n\u001b[1;32m----> 4\u001b[0m \u001b[38;5;28mprint\u001b[39m(\u001b[38;5;124;43m'\u001b[39;49m\u001b[38;5;124;43mc == \u001b[39;49m\u001b[38;5;132;43;01m%d\u001b[39;49;00m\u001b[38;5;124;43m'\u001b[39;49m\u001b[43m \u001b[49m\u001b[38;5;241;43m%\u001b[39;49m\u001b[43mc\u001b[49m)\n",
      "\u001b[1;31mTypeError\u001b[0m: %d format: a real number is required, not str"
     ]
    }
   ],
   "source": [
    "a = 10\n",
    "b = 5.5\n",
    "c = '20'\n",
    "print('c == %d' %c)     # %s >> for str"
   ]
  },
  {
   "cell_type": "markdown",
   "id": "c47fef0a",
   "metadata": {},
   "source": [
    "## Multiple Values to multiple variables"
   ]
  },
  {
   "cell_type": "code",
   "execution_count": 85,
   "id": "9e21705c",
   "metadata": {},
   "outputs": [
    {
     "name": "stdout",
     "output_type": "stream",
     "text": [
      "10 20 hi\n"
     ]
    }
   ],
   "source": [
    "a = 10\n",
    "b = 20\n",
    "c = 'hi'\n",
    "print(a,b,c)"
   ]
  },
  {
   "cell_type": "code",
   "execution_count": 86,
   "id": "4c84fc63",
   "metadata": {},
   "outputs": [
    {
     "ename": "SyntaxError",
     "evalue": "invalid syntax. Maybe you meant '==' or ':=' instead of '='? (1262549641.py, line 1)",
     "output_type": "error",
     "traceback": [
      "\u001b[1;36m  Input \u001b[1;32mIn [86]\u001b[1;36m\u001b[0m\n\u001b[1;33m    a = 10, b = 20, c = 'hi'\u001b[0m\n\u001b[1;37m    ^\u001b[0m\n\u001b[1;31mSyntaxError\u001b[0m\u001b[1;31m:\u001b[0m invalid syntax. Maybe you meant '==' or ':=' instead of '='?\n"
     ]
    }
   ],
   "source": [
    "a = 10, b = 20, c = 'hi'\n",
    "print(a,b,c)"
   ]
  },
  {
   "cell_type": "code",
   "execution_count": 87,
   "id": "a03d0c91",
   "metadata": {},
   "outputs": [
    {
     "name": "stdout",
     "output_type": "stream",
     "text": [
      "10 20 hi\n"
     ]
    }
   ],
   "source": [
    "a = 10; b = 20; c = 'hi'\n",
    "print(a,b,c)"
   ]
  },
  {
   "cell_type": "code",
   "execution_count": 88,
   "id": "ea0445ca",
   "metadata": {},
   "outputs": [
    {
     "name": "stdout",
     "output_type": "stream",
     "text": [
      "10 20 hello\n"
     ]
    }
   ],
   "source": [
    "a, b, c = 10,20,'hello'\n",
    "print(a,b,c)"
   ]
  },
  {
   "cell_type": "code",
   "execution_count": 89,
   "id": "a443a0d7",
   "metadata": {},
   "outputs": [
    {
     "ename": "ValueError",
     "evalue": "not enough values to unpack (expected 4, got 3)",
     "output_type": "error",
     "traceback": [
      "\u001b[1;31m---------------------------------------------------------------------------\u001b[0m",
      "\u001b[1;31mValueError\u001b[0m                                Traceback (most recent call last)",
      "Input \u001b[1;32mIn [89]\u001b[0m, in \u001b[0;36m<cell line: 1>\u001b[1;34m()\u001b[0m\n\u001b[1;32m----> 1\u001b[0m a, b, c, d \u001b[38;5;241m=\u001b[39m \u001b[38;5;241m10\u001b[39m,\u001b[38;5;241m20\u001b[39m,\u001b[38;5;124m'\u001b[39m\u001b[38;5;124mhello\u001b[39m\u001b[38;5;124m'\u001b[39m\n\u001b[0;32m      2\u001b[0m \u001b[38;5;28mprint\u001b[39m(a,b,c)\n",
      "\u001b[1;31mValueError\u001b[0m: not enough values to unpack (expected 4, got 3)"
     ]
    }
   ],
   "source": [
    "a, b, c, d = 10,20,'hello'\n",
    "print(a,b,c)"
   ]
  },
  {
   "cell_type": "code",
   "execution_count": 90,
   "id": "163db328",
   "metadata": {},
   "outputs": [
    {
     "ename": "ValueError",
     "evalue": "too many values to unpack (expected 3)",
     "output_type": "error",
     "traceback": [
      "\u001b[1;31m---------------------------------------------------------------------------\u001b[0m",
      "\u001b[1;31mValueError\u001b[0m                                Traceback (most recent call last)",
      "Input \u001b[1;32mIn [90]\u001b[0m, in \u001b[0;36m<cell line: 1>\u001b[1;34m()\u001b[0m\n\u001b[1;32m----> 1\u001b[0m a, b, c \u001b[38;5;241m=\u001b[39m \u001b[38;5;241m10\u001b[39m,\u001b[38;5;241m20\u001b[39m,\u001b[38;5;124m'\u001b[39m\u001b[38;5;124mhello\u001b[39m\u001b[38;5;124m'\u001b[39m, \u001b[38;5;241m5\u001b[39m\n\u001b[0;32m      2\u001b[0m \u001b[38;5;28mprint\u001b[39m(a,b,c)\n",
      "\u001b[1;31mValueError\u001b[0m: too many values to unpack (expected 3)"
     ]
    }
   ],
   "source": [
    "a, b, c = 10,20,'hello', 5\n",
    "print(a,b,c)"
   ]
  },
  {
   "cell_type": "markdown",
   "id": "aca809ce",
   "metadata": {},
   "source": [
    "## Delete Variables"
   ]
  },
  {
   "cell_type": "code",
   "execution_count": 92,
   "id": "352a0372",
   "metadata": {},
   "outputs": [
    {
     "name": "stdout",
     "output_type": "stream",
     "text": [
      "Pune\n"
     ]
    },
    {
     "ename": "NameError",
     "evalue": "name 'str1' is not defined",
     "output_type": "error",
     "traceback": [
      "\u001b[1;31m---------------------------------------------------------------------------\u001b[0m",
      "\u001b[1;31mNameError\u001b[0m                                 Traceback (most recent call last)",
      "Input \u001b[1;32mIn [92]\u001b[0m, in \u001b[0;36m<cell line: 5>\u001b[1;34m()\u001b[0m\n\u001b[0;32m      2\u001b[0m \u001b[38;5;28mprint\u001b[39m(str1)\n\u001b[0;32m      4\u001b[0m \u001b[38;5;28;01mdel\u001b[39;00m str1\n\u001b[1;32m----> 5\u001b[0m \u001b[38;5;28mprint\u001b[39m(\u001b[43mstr1\u001b[49m)\n",
      "\u001b[1;31mNameError\u001b[0m: name 'str1' is not defined"
     ]
    }
   ],
   "source": [
    "str1 = 'Pune'\n",
    "print(str1)\n",
    "\n",
    "del str1\n",
    "print(str1)"
   ]
  },
  {
   "cell_type": "code",
   "execution_count": 93,
   "id": "57dfcfae",
   "metadata": {},
   "outputs": [
    {
     "data": {
      "text/plain": [
       "[1, 2, 30]"
      ]
     },
     "execution_count": 93,
     "metadata": {},
     "output_type": "execute_result"
    }
   ],
   "source": [
    "a = [1,2,30]\n",
    "a"
   ]
  },
  {
   "cell_type": "code",
   "execution_count": 94,
   "id": "edb4c52b",
   "metadata": {},
   "outputs": [
    {
     "ename": "NameError",
     "evalue": "name 'a' is not defined",
     "output_type": "error",
     "traceback": [
      "\u001b[1;31m---------------------------------------------------------------------------\u001b[0m",
      "\u001b[1;31mNameError\u001b[0m                                 Traceback (most recent call last)",
      "Input \u001b[1;32mIn [94]\u001b[0m, in \u001b[0;36m<cell line: 2>\u001b[1;34m()\u001b[0m\n\u001b[0;32m      1\u001b[0m \u001b[38;5;28;01mdel\u001b[39;00m a\n\u001b[1;32m----> 2\u001b[0m \u001b[43ma\u001b[49m\n",
      "\u001b[1;31mNameError\u001b[0m: name 'a' is not defined"
     ]
    }
   ],
   "source": [
    "del a\n",
    "a"
   ]
  },
  {
   "cell_type": "code",
   "execution_count": 95,
   "id": "6e8500b5",
   "metadata": {},
   "outputs": [
    {
     "name": "stdout",
     "output_type": "stream",
     "text": [
      "Python\n",
      "Data Science\n"
     ]
    }
   ],
   "source": [
    "print('Python')\n",
    "print('Data Science')"
   ]
  },
  {
   "cell_type": "code",
   "execution_count": 97,
   "id": "be03e6a1",
   "metadata": {},
   "outputs": [
    {
     "name": "stdout",
     "output_type": "stream",
     "text": [
      "Python Data Science\n"
     ]
    }
   ],
   "source": [
    "print('Python', end= ' ')\n",
    "print('Data Science')"
   ]
  },
  {
   "cell_type": "code",
   "execution_count": 98,
   "id": "695be90e",
   "metadata": {},
   "outputs": [
    {
     "name": "stdout",
     "output_type": "stream",
     "text": [
      "Python\n",
      "Data Science\n"
     ]
    }
   ],
   "source": [
    "print('Python', end= '\\n')\n",
    "print('Data Science')"
   ]
  },
  {
   "cell_type": "code",
   "execution_count": 99,
   "id": "34aa441b",
   "metadata": {},
   "outputs": [
    {
     "name": "stdout",
     "output_type": "stream",
     "text": [
      "Python\n",
      "\n",
      "Data Science\n"
     ]
    }
   ],
   "source": [
    "print('Python', end= '\\n\\n')\n",
    "print('Data Science')"
   ]
  },
  {
   "cell_type": "code",
   "execution_count": 100,
   "id": "26f4bc1f",
   "metadata": {},
   "outputs": [
    {
     "name": "stdout",
     "output_type": "stream",
     "text": [
      "Python\n",
      "\n",
      "\tData Science\n"
     ]
    }
   ],
   "source": [
    "print('Python', end= '\\n\\n\\t')\n",
    "print('Data Science')"
   ]
  },
  {
   "cell_type": "code",
   "execution_count": 101,
   "id": "c7a90247",
   "metadata": {},
   "outputs": [
    {
     "name": "stdout",
     "output_type": "stream",
     "text": [
      "Python_Data Science\n"
     ]
    }
   ],
   "source": [
    "print('Python', end= '_')\n",
    "print('Data Science')"
   ]
  },
  {
   "cell_type": "code",
   "execution_count": 103,
   "id": "8b5caa5a",
   "metadata": {},
   "outputs": [
    {
     "name": "stdout",
     "output_type": "stream",
     "text": [
      "Python \n",
      " DL\n",
      "Data Science\n"
     ]
    }
   ],
   "source": [
    "print('Python', '\\n', 'DL')\n",
    "print('Data Science')"
   ]
  },
  {
   "cell_type": "code",
   "execution_count": 104,
   "id": "d6bced8f",
   "metadata": {},
   "outputs": [
    {
     "name": "stdout",
     "output_type": "stream",
     "text": [
      "Python\n",
      "\n",
      "Data Science\n"
     ]
    }
   ],
   "source": [
    "print('Python\\n')\n",
    "print('Data Science')"
   ]
  },
  {
   "cell_type": "code",
   "execution_count": 105,
   "id": "b4ad2db2",
   "metadata": {},
   "outputs": [
    {
     "name": "stdout",
     "output_type": "stream",
     "text": [
      "Python_Data Science_ML\n"
     ]
    }
   ],
   "source": [
    "print('Python', end = '_')\n",
    "print('Data Science', end = '_')\n",
    "print('ML')"
   ]
  },
  {
   "cell_type": "code",
   "execution_count": 106,
   "id": "b2416b76",
   "metadata": {},
   "outputs": [
    {
     "name": "stdout",
     "output_type": "stream",
     "text": [
      "Python_Data Science\n",
      "ML\n"
     ]
    }
   ],
   "source": [
    "print('Python', end = '_')\n",
    "print('Data Science')\n",
    "print('ML')"
   ]
  },
  {
   "cell_type": "code",
   "execution_count": null,
   "id": "81a5b26b",
   "metadata": {},
   "outputs": [],
   "source": []
  },
  {
   "cell_type": "code",
   "execution_count": 109,
   "id": "cccb4be7",
   "metadata": {},
   "outputs": [
    {
     "name": "stdout",
     "output_type": "stream",
     "text": [
      "Python\n",
      ",\n",
      "Data Science Siraj\n"
     ]
    }
   ],
   "source": [
    "print('Python', end= '\\n,\\n')\n",
    "print('Data Science','Siraj')"
   ]
  },
  {
   "cell_type": "code",
   "execution_count": 113,
   "id": "5581dc15",
   "metadata": {},
   "outputs": [
    {
     "name": "stdout",
     "output_type": "stream",
     "text": [
      "PythonData\n"
     ]
    }
   ],
   "source": [
    "print('Python','Data')"
   ]
  },
  {
   "cell_type": "code",
   "execution_count": 114,
   "id": "d00a20aa",
   "metadata": {},
   "outputs": [
    {
     "data": {
      "text/plain": [
       "'\\n'"
      ]
     },
     "execution_count": 114,
     "metadata": {},
     "output_type": "execute_result"
    }
   ],
   "source": [
    "'\\n'"
   ]
  },
  {
   "cell_type": "code",
   "execution_count": 116,
   "id": "171af8fb",
   "metadata": {},
   "outputs": [
    {
     "name": "stdout",
     "output_type": "stream",
     "text": [
      "\n",
      "\n",
      "\n",
      "\n"
     ]
    }
   ],
   "source": [
    "print('\\n\\n\\n')"
   ]
  },
  {
   "cell_type": "code",
   "execution_count": 117,
   "id": "434d6bc7",
   "metadata": {},
   "outputs": [
    {
     "data": {
      "text/plain": [
       "'python\\nData science'"
      ]
     },
     "execution_count": 117,
     "metadata": {},
     "output_type": "execute_result"
    }
   ],
   "source": [
    "'python\\nData science'"
   ]
  },
  {
   "cell_type": "code",
   "execution_count": 118,
   "id": "d9b31b43",
   "metadata": {},
   "outputs": [
    {
     "name": "stdout",
     "output_type": "stream",
     "text": [
      "python\n",
      "Data science\n"
     ]
    }
   ],
   "source": [
    "print('python\\nData science')"
   ]
  },
  {
   "cell_type": "code",
   "execution_count": null,
   "id": "3c9e81fb",
   "metadata": {},
   "outputs": [],
   "source": []
  },
  {
   "cell_type": "code",
   "execution_count": null,
   "id": "e38ff524",
   "metadata": {},
   "outputs": [],
   "source": []
  },
  {
   "cell_type": "code",
   "execution_count": 128,
   "id": "1db1d238",
   "metadata": {},
   "outputs": [
    {
     "name": "stdout",
     "output_type": "stream",
     "text": [
      "x ==++++++====== 100, y == 200, z == 300 \n"
     ]
    }
   ],
   "source": [
    "x = 100\n",
    "\n",
    "y = 200\n",
    "\n",
    "z = 300\n",
    "\n",
    "print(f'x ==++++++====== {x}, y == {y}, z == {z} ')"
   ]
  },
  {
   "cell_type": "code",
   "execution_count": 130,
   "id": "76c49f87",
   "metadata": {},
   "outputs": [
    {
     "data": {
      "text/plain": [
       "False"
      ]
     },
     "execution_count": 130,
     "metadata": {},
     "output_type": "execute_result"
    }
   ],
   "source": [
    "y == 100"
   ]
  },
  {
   "cell_type": "code",
   "execution_count": null,
   "id": "cae6a917",
   "metadata": {},
   "outputs": [],
   "source": []
  },
  {
   "cell_type": "code",
   "execution_count": null,
   "id": "bcd553f6",
   "metadata": {},
   "outputs": [],
   "source": []
  },
  {
   "cell_type": "code",
   "execution_count": null,
   "id": "834a5514",
   "metadata": {},
   "outputs": [],
   "source": []
  },
  {
   "cell_type": "code",
   "execution_count": null,
   "id": "362bcc55",
   "metadata": {},
   "outputs": [],
   "source": []
  },
  {
   "cell_type": "code",
   "execution_count": null,
   "id": "ddbce0f7",
   "metadata": {},
   "outputs": [],
   "source": []
  },
  {
   "cell_type": "code",
   "execution_count": null,
   "id": "7dee2ab3",
   "metadata": {},
   "outputs": [],
   "source": []
  },
  {
   "cell_type": "code",
   "execution_count": null,
   "id": "0ec0d5e3",
   "metadata": {},
   "outputs": [],
   "source": []
  },
  {
   "cell_type": "code",
   "execution_count": null,
   "id": "d2dfc850",
   "metadata": {},
   "outputs": [],
   "source": []
  },
  {
   "cell_type": "code",
   "execution_count": null,
   "id": "4cd40a73",
   "metadata": {},
   "outputs": [],
   "source": []
  },
  {
   "cell_type": "code",
   "execution_count": null,
   "id": "953f46c0",
   "metadata": {},
   "outputs": [],
   "source": []
  },
  {
   "cell_type": "code",
   "execution_count": null,
   "id": "c5ac3976",
   "metadata": {},
   "outputs": [],
   "source": []
  },
  {
   "cell_type": "code",
   "execution_count": null,
   "id": "490270a4",
   "metadata": {},
   "outputs": [],
   "source": []
  },
  {
   "cell_type": "code",
   "execution_count": null,
   "id": "c377f9db",
   "metadata": {},
   "outputs": [],
   "source": []
  },
  {
   "cell_type": "code",
   "execution_count": null,
   "id": "ec613db4",
   "metadata": {},
   "outputs": [],
   "source": []
  },
  {
   "cell_type": "code",
   "execution_count": null,
   "id": "26252410",
   "metadata": {},
   "outputs": [],
   "source": []
  },
  {
   "cell_type": "code",
   "execution_count": null,
   "id": "330aefff",
   "metadata": {},
   "outputs": [],
   "source": []
  },
  {
   "cell_type": "code",
   "execution_count": null,
   "id": "7f9756bb",
   "metadata": {},
   "outputs": [],
   "source": []
  },
  {
   "cell_type": "code",
   "execution_count": null,
   "id": "f0b8babe",
   "metadata": {},
   "outputs": [],
   "source": []
  },
  {
   "cell_type": "code",
   "execution_count": null,
   "id": "e445b2e5",
   "metadata": {},
   "outputs": [],
   "source": []
  },
  {
   "cell_type": "code",
   "execution_count": null,
   "id": "f5b859be",
   "metadata": {},
   "outputs": [],
   "source": []
  },
  {
   "cell_type": "code",
   "execution_count": null,
   "id": "0574ba44",
   "metadata": {},
   "outputs": [],
   "source": []
  },
  {
   "cell_type": "code",
   "execution_count": 22,
   "id": "066f7f7c",
   "metadata": {},
   "outputs": [
    {
     "name": "stdout",
     "output_type": "stream",
     "text": [
      "Val of a + x is : 600\n"
     ]
    }
   ],
   "source": [
    "my_fun()"
   ]
  },
  {
   "cell_type": "code",
   "execution_count": 23,
   "id": "07589d78",
   "metadata": {},
   "outputs": [
    {
     "name": "stdout",
     "output_type": "stream",
     "text": [
      "Val of a + x is : 600\n"
     ]
    }
   ],
   "source": [
    "my_fun()"
   ]
  },
  {
   "cell_type": "code",
   "execution_count": null,
   "id": "f33b4ae8",
   "metadata": {},
   "outputs": [],
   "source": []
  }
 ],
 "metadata": {
  "kernelspec": {
   "display_name": "Python 3 (ipykernel)",
   "language": "python",
   "name": "python3"
  },
  "language_info": {
   "codemirror_mode": {
    "name": "ipython",
    "version": 3
   },
   "file_extension": ".py",
   "mimetype": "text/x-python",
   "name": "python",
   "nbconvert_exporter": "python",
   "pygments_lexer": "ipython3",
   "version": "3.10.6"
  }
 },
 "nbformat": 4,
 "nbformat_minor": 5
}
