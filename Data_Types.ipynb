{
 "cells": [
  {
   "cell_type": "markdown",
   "id": "40bcd6e5",
   "metadata": {},
   "source": [
    "## Data Types"
   ]
  },
  {
   "cell_type": "code",
   "execution_count": null,
   "id": "212f71b5",
   "metadata": {},
   "outputs": [],
   "source": [
    "Numeric DT >> int, float, complex\n",
    "\n",
    "Text >> str\n",
    "\n",
    "Sequence/iterables >> list, tuple, set, frozenset\n",
    "\n",
    "Mapping >> dict\n",
    "\n",
    "Boolean >> bool (True, False)\n",
    "            range , bytearray, bytes, None"
   ]
  },
  {
   "cell_type": "code",
   "execution_count": 1,
   "id": "9ef518b3",
   "metadata": {},
   "outputs": [
    {
     "data": {
      "text/plain": [
       "dict"
      ]
     },
     "execution_count": 1,
     "metadata": {},
     "output_type": "execute_result"
    }
   ],
   "source": [
    "a = {'a': 20}\n",
    "type(a)"
   ]
  },
  {
   "cell_type": "code",
   "execution_count": 2,
   "id": "df7d54ae",
   "metadata": {},
   "outputs": [
    {
     "data": {
      "text/plain": [
       "set"
      ]
     },
     "execution_count": 2,
     "metadata": {},
     "output_type": "execute_result"
    }
   ],
   "source": [
    "b = { 4,5,6}\n",
    "type(b)"
   ]
  },
  {
   "cell_type": "code",
   "execution_count": 3,
   "id": "f0d9c9c4",
   "metadata": {},
   "outputs": [
    {
     "data": {
      "text/plain": [
       "1"
      ]
     },
     "execution_count": 3,
     "metadata": {},
     "output_type": "execute_result"
    }
   ],
   "source": [
    "int(True)"
   ]
  },
  {
   "cell_type": "code",
   "execution_count": 4,
   "id": "9674d7fa",
   "metadata": {},
   "outputs": [
    {
     "data": {
      "text/plain": [
       "0"
      ]
     },
     "execution_count": 4,
     "metadata": {},
     "output_type": "execute_result"
    }
   ],
   "source": [
    "int(False)"
   ]
  },
  {
   "cell_type": "markdown",
   "id": "184d6e6c",
   "metadata": {},
   "source": [
    "# Numerical Data Types"
   ]
  },
  {
   "cell_type": "markdown",
   "id": "488eed0a",
   "metadata": {},
   "source": [
    "## 1. int DT"
   ]
  },
  {
   "cell_type": "code",
   "execution_count": null,
   "id": "e22a4b39",
   "metadata": {},
   "outputs": [],
   "source": [
    "Whole number\n",
    "+ve or -ve \n",
    "int function\n",
    "\n",
    "10, 20, -1,-4"
   ]
  },
  {
   "cell_type": "code",
   "execution_count": 5,
   "id": "ddece439",
   "metadata": {},
   "outputs": [
    {
     "data": {
      "text/plain": [
       "int"
      ]
     },
     "execution_count": 5,
     "metadata": {},
     "output_type": "execute_result"
    }
   ],
   "source": [
    "s = 1\n",
    "type(s)"
   ]
  },
  {
   "cell_type": "code",
   "execution_count": 6,
   "id": "ba26ba69",
   "metadata": {},
   "outputs": [
    {
     "data": {
      "text/plain": [
       "int"
      ]
     },
     "execution_count": 6,
     "metadata": {},
     "output_type": "execute_result"
    }
   ],
   "source": [
    "s = -1\n",
    "type(s)"
   ]
  },
  {
   "cell_type": "code",
   "execution_count": 7,
   "id": "bd8e55ef",
   "metadata": {},
   "outputs": [
    {
     "data": {
      "text/plain": [
       "int"
      ]
     },
     "execution_count": 7,
     "metadata": {},
     "output_type": "execute_result"
    }
   ],
   "source": [
    "s = 0\n",
    "type(s)"
   ]
  },
  {
   "cell_type": "markdown",
   "id": "e162a2d5",
   "metadata": {},
   "source": [
    "## 2. float DT"
   ]
  },
  {
   "cell_type": "code",
   "execution_count": null,
   "id": "f9cd47f2",
   "metadata": {},
   "outputs": [],
   "source": [
    "It contain decimal point\n",
    "+ve or -ve\n",
    "float"
   ]
  },
  {
   "cell_type": "code",
   "execution_count": 8,
   "id": "47c30d43",
   "metadata": {},
   "outputs": [
    {
     "data": {
      "text/plain": [
       "float"
      ]
     },
     "execution_count": 8,
     "metadata": {},
     "output_type": "execute_result"
    }
   ],
   "source": [
    "a = 2.2\n",
    "type(a)"
   ]
  },
  {
   "cell_type": "code",
   "execution_count": 9,
   "id": "ab5b26a6",
   "metadata": {},
   "outputs": [
    {
     "data": {
      "text/plain": [
       "float"
      ]
     },
     "execution_count": 9,
     "metadata": {},
     "output_type": "execute_result"
    }
   ],
   "source": [
    "a = -2.2\n",
    "type(a)"
   ]
  },
  {
   "cell_type": "code",
   "execution_count": 10,
   "id": "69cd705a",
   "metadata": {},
   "outputs": [
    {
     "data": {
      "text/plain": [
       "float"
      ]
     },
     "execution_count": 10,
     "metadata": {},
     "output_type": "execute_result"
    }
   ],
   "source": [
    "a = 0.0\n",
    "type(a)"
   ]
  },
  {
   "cell_type": "markdown",
   "id": "cccfe844",
   "metadata": {},
   "source": [
    "## 3. complex DT"
   ]
  },
  {
   "cell_type": "code",
   "execution_count": null,
   "id": "36269bf8",
   "metadata": {},
   "outputs": [],
   "source": [
    "It contain real and imaginary part\n",
    "a + bj"
   ]
  },
  {
   "cell_type": "code",
   "execution_count": 11,
   "id": "9a65d9df",
   "metadata": {},
   "outputs": [
    {
     "data": {
      "text/plain": [
       "complex"
      ]
     },
     "execution_count": 11,
     "metadata": {},
     "output_type": "execute_result"
    }
   ],
   "source": [
    "x = 5 + 6j\n",
    "type(x)"
   ]
  },
  {
   "cell_type": "code",
   "execution_count": 12,
   "id": "31db8463",
   "metadata": {},
   "outputs": [
    {
     "data": {
      "text/plain": [
       "complex"
      ]
     },
     "execution_count": 12,
     "metadata": {},
     "output_type": "execute_result"
    }
   ],
   "source": [
    "x = -4 + 6j\n",
    "type(x)"
   ]
  },
  {
   "cell_type": "code",
   "execution_count": 13,
   "id": "692d0fc6",
   "metadata": {},
   "outputs": [
    {
     "data": {
      "text/plain": [
       "complex"
      ]
     },
     "execution_count": 13,
     "metadata": {},
     "output_type": "execute_result"
    }
   ],
   "source": [
    "x = -4 - 6j\n",
    "type(x)"
   ]
  },
  {
   "cell_type": "code",
   "execution_count": 14,
   "id": "ce63420f",
   "metadata": {},
   "outputs": [
    {
     "data": {
      "text/plain": [
       "int"
      ]
     },
     "execution_count": 14,
     "metadata": {},
     "output_type": "execute_result"
    }
   ],
   "source": [
    "x = -4 - 6\n",
    "type(x)"
   ]
  },
  {
   "cell_type": "code",
   "execution_count": 15,
   "id": "bebf836c",
   "metadata": {},
   "outputs": [
    {
     "ename": "SyntaxError",
     "evalue": "invalid decimal literal (1961662210.py, line 1)",
     "output_type": "error",
     "traceback": [
      "\u001b[1;36m  Input \u001b[1;32mIn [15]\u001b[1;36m\u001b[0m\n\u001b[1;33m    x = -4 - 6k\u001b[0m\n\u001b[1;37m             ^\u001b[0m\n\u001b[1;31mSyntaxError\u001b[0m\u001b[1;31m:\u001b[0m invalid decimal literal\n"
     ]
    }
   ],
   "source": [
    "x = -4 - 6k\n",
    "type(x)"
   ]
  },
  {
   "cell_type": "code",
   "execution_count": 16,
   "id": "22d977af",
   "metadata": {},
   "outputs": [
    {
     "data": {
      "text/plain": [
       "complex"
      ]
     },
     "execution_count": 16,
     "metadata": {},
     "output_type": "execute_result"
    }
   ],
   "source": [
    "x = 6j\n",
    "type(x)"
   ]
  },
  {
   "cell_type": "code",
   "execution_count": 17,
   "id": "a4969f26",
   "metadata": {},
   "outputs": [
    {
     "data": {
      "text/plain": [
       "complex"
      ]
     },
     "execution_count": 17,
     "metadata": {},
     "output_type": "execute_result"
    }
   ],
   "source": [
    "x = -4.4 - 6j\n",
    "type(x)"
   ]
  },
  {
   "cell_type": "markdown",
   "id": "d6fb8436",
   "metadata": {},
   "source": [
    "## Python Casting(Type Cating/coersion)"
   ]
  },
  {
   "cell_type": "code",
   "execution_count": null,
   "id": "03a26dee",
   "metadata": {},
   "outputs": [],
   "source": [
    "int to float\n",
    "float to int\n",
    "int to complex\n",
    "float to complex"
   ]
  },
  {
   "cell_type": "markdown",
   "id": "6677f4e0",
   "metadata": {},
   "source": [
    "## 1. int to float"
   ]
  },
  {
   "cell_type": "code",
   "execution_count": 21,
   "id": "df0f0f02",
   "metadata": {},
   "outputs": [
    {
     "name": "stdout",
     "output_type": "stream",
     "text": [
      "10 <class 'int'>\n",
      "\n",
      "10.0 <class 'float'>\n"
     ]
    }
   ],
   "source": [
    "a = 10 \n",
    "print(a, type(a))\n",
    "print()\n",
    "\n",
    "b = float(a)\n",
    "print(b, type(b))"
   ]
  },
  {
   "cell_type": "code",
   "execution_count": 22,
   "id": "b133221d",
   "metadata": {},
   "outputs": [
    {
     "name": "stdout",
     "output_type": "stream",
     "text": [
      "-67 <class 'int'>\n",
      "\n",
      "-67.0 <class 'float'>\n"
     ]
    }
   ],
   "source": [
    "a = -67 \n",
    "print(a, type(a))\n",
    "print()\n",
    "\n",
    "b = float(a)\n",
    "print(b, type(b))"
   ]
  },
  {
   "cell_type": "markdown",
   "id": "7eb34228",
   "metadata": {},
   "source": [
    "## float to int"
   ]
  },
  {
   "cell_type": "code",
   "execution_count": 23,
   "id": "9f573f91",
   "metadata": {},
   "outputs": [
    {
     "name": "stdout",
     "output_type": "stream",
     "text": [
      "-6.7 <class 'float'>\n",
      "\n",
      "-6 <class 'int'>\n"
     ]
    }
   ],
   "source": [
    "a = -6.7 \n",
    "print(a, type(a))\n",
    "print()\n",
    "\n",
    "b = int(a)\n",
    "print(b, type(b))"
   ]
  },
  {
   "cell_type": "code",
   "execution_count": 24,
   "id": "5b0b6a48",
   "metadata": {},
   "outputs": [
    {
     "name": "stdout",
     "output_type": "stream",
     "text": [
      "45.3 <class 'float'>\n",
      "\n",
      "45 <class 'int'>\n"
     ]
    }
   ],
   "source": [
    "a = 45.3\n",
    "print(a, type(a))\n",
    "print()\n",
    "\n",
    "b = int(a)\n",
    "print(b, type(b))"
   ]
  },
  {
   "cell_type": "code",
   "execution_count": 25,
   "id": "ec7e94ac",
   "metadata": {},
   "outputs": [
    {
     "name": "stdout",
     "output_type": "stream",
     "text": [
      "45.99 <class 'float'>\n",
      "\n",
      "45 <class 'int'>\n"
     ]
    }
   ],
   "source": [
    "a = 45.99\n",
    "print(a, type(a))\n",
    "print()\n",
    "\n",
    "b = int(a)\n",
    "print(b, type(b))"
   ]
  },
  {
   "cell_type": "markdown",
   "id": "2bd9d8b5",
   "metadata": {},
   "source": [
    "## int to complex"
   ]
  },
  {
   "cell_type": "code",
   "execution_count": 28,
   "id": "6cfadc5d",
   "metadata": {},
   "outputs": [
    {
     "name": "stdout",
     "output_type": "stream",
     "text": [
      "value in variable a is : 20 , <class 'int'>\n",
      "value in variable b is : (20+0j) , <class 'complex'>\n"
     ]
    }
   ],
   "source": [
    "a = 20 \n",
    "print(f'value in variable a is : {a} , {type(a)}')\n",
    "\n",
    "b = complex(a) \n",
    "print(f'value in variable b is : {b} , {type(b)}')"
   ]
  },
  {
   "cell_type": "code",
   "execution_count": 29,
   "id": "75719708",
   "metadata": {},
   "outputs": [
    {
     "name": "stdout",
     "output_type": "stream",
     "text": [
      "value in variable a is : 4565 , <class 'int'>\n",
      "value in variable b is : (4565+0j) , <class 'complex'>\n"
     ]
    }
   ],
   "source": [
    "a = 4565 \n",
    "print(f'value in variable a is : {a} , {type(a)}')\n",
    "\n",
    "b = complex(a) \n",
    "print(f'value in variable b is : {b} , {type(b)}')"
   ]
  },
  {
   "cell_type": "markdown",
   "id": "6c924780",
   "metadata": {},
   "source": [
    "## float to complex"
   ]
  },
  {
   "cell_type": "code",
   "execution_count": 30,
   "id": "5d13b912",
   "metadata": {},
   "outputs": [
    {
     "name": "stdout",
     "output_type": "stream",
     "text": [
      "value in variable a is : 45.65 , <class 'float'>\n",
      "value in variable b is : (45.65+0j) , <class 'complex'>\n"
     ]
    }
   ],
   "source": [
    "a = 45.65 \n",
    "print(f'value in variable a is : {a} , {type(a)}')\n",
    "\n",
    "b = complex(a) \n",
    "print(f'value in variable b is : {b} , {type(b)}')"
   ]
  },
  {
   "cell_type": "markdown",
   "id": "0924180c",
   "metadata": {},
   "source": [
    "## complex to int"
   ]
  },
  {
   "cell_type": "code",
   "execution_count": 31,
   "id": "6a106000",
   "metadata": {},
   "outputs": [
    {
     "name": "stdout",
     "output_type": "stream",
     "text": [
      "value in variable a is : (5+3j) , <class 'complex'>\n"
     ]
    },
    {
     "ename": "TypeError",
     "evalue": "int() argument must be a string, a bytes-like object or a real number, not 'complex'",
     "output_type": "error",
     "traceback": [
      "\u001b[1;31m---------------------------------------------------------------------------\u001b[0m",
      "\u001b[1;31mTypeError\u001b[0m                                 Traceback (most recent call last)",
      "Input \u001b[1;32mIn [31]\u001b[0m, in \u001b[0;36m<cell line: 4>\u001b[1;34m()\u001b[0m\n\u001b[0;32m      1\u001b[0m a \u001b[38;5;241m=\u001b[39m \u001b[38;5;241m5\u001b[39m \u001b[38;5;241m+\u001b[39m \u001b[38;5;241m3\u001b[39mj \n\u001b[0;32m      2\u001b[0m \u001b[38;5;28mprint\u001b[39m(\u001b[38;5;124mf\u001b[39m\u001b[38;5;124m'\u001b[39m\u001b[38;5;124mvalue in variable a is : \u001b[39m\u001b[38;5;132;01m{\u001b[39;00ma\u001b[38;5;132;01m}\u001b[39;00m\u001b[38;5;124m , \u001b[39m\u001b[38;5;132;01m{\u001b[39;00m\u001b[38;5;28mtype\u001b[39m(a)\u001b[38;5;132;01m}\u001b[39;00m\u001b[38;5;124m'\u001b[39m)\n\u001b[1;32m----> 4\u001b[0m b \u001b[38;5;241m=\u001b[39m \u001b[38;5;28;43mint\u001b[39;49m\u001b[43m(\u001b[49m\u001b[43ma\u001b[49m\u001b[43m)\u001b[49m \n\u001b[0;32m      5\u001b[0m \u001b[38;5;28mprint\u001b[39m(\u001b[38;5;124mf\u001b[39m\u001b[38;5;124m'\u001b[39m\u001b[38;5;124mvalue in variable b is : \u001b[39m\u001b[38;5;132;01m{\u001b[39;00mb\u001b[38;5;132;01m}\u001b[39;00m\u001b[38;5;124m , \u001b[39m\u001b[38;5;132;01m{\u001b[39;00m\u001b[38;5;28mtype\u001b[39m(b)\u001b[38;5;132;01m}\u001b[39;00m\u001b[38;5;124m'\u001b[39m)\n",
      "\u001b[1;31mTypeError\u001b[0m: int() argument must be a string, a bytes-like object or a real number, not 'complex'"
     ]
    }
   ],
   "source": [
    "a = 5 + 3j \n",
    "print(f'value in variable a is : {a} , {type(a)}')\n",
    "\n",
    "b = int(a) \n",
    "print(f'value in variable b is : {b} , {type(b)}')"
   ]
  },
  {
   "cell_type": "markdown",
   "id": "96824632",
   "metadata": {},
   "source": [
    "## complex to float"
   ]
  },
  {
   "cell_type": "code",
   "execution_count": 33,
   "id": "c8501906",
   "metadata": {},
   "outputs": [
    {
     "name": "stdout",
     "output_type": "stream",
     "text": [
      "value in variable a is : (5+4j) , <class 'complex'>\n"
     ]
    },
    {
     "ename": "TypeError",
     "evalue": "float() argument must be a string or a real number, not 'complex'",
     "output_type": "error",
     "traceback": [
      "\u001b[1;31m---------------------------------------------------------------------------\u001b[0m",
      "\u001b[1;31mTypeError\u001b[0m                                 Traceback (most recent call last)",
      "Input \u001b[1;32mIn [33]\u001b[0m, in \u001b[0;36m<cell line: 4>\u001b[1;34m()\u001b[0m\n\u001b[0;32m      1\u001b[0m a \u001b[38;5;241m=\u001b[39m \u001b[38;5;241m5\u001b[39m\u001b[38;5;241m+\u001b[39m\u001b[38;5;241m4\u001b[39mj \n\u001b[0;32m      2\u001b[0m \u001b[38;5;28mprint\u001b[39m(\u001b[38;5;124mf\u001b[39m\u001b[38;5;124m'\u001b[39m\u001b[38;5;124mvalue in variable a is : \u001b[39m\u001b[38;5;132;01m{\u001b[39;00ma\u001b[38;5;132;01m}\u001b[39;00m\u001b[38;5;124m , \u001b[39m\u001b[38;5;132;01m{\u001b[39;00m\u001b[38;5;28mtype\u001b[39m(a)\u001b[38;5;132;01m}\u001b[39;00m\u001b[38;5;124m'\u001b[39m)\n\u001b[1;32m----> 4\u001b[0m b \u001b[38;5;241m=\u001b[39m \u001b[38;5;28;43mfloat\u001b[39;49m\u001b[43m(\u001b[49m\u001b[43ma\u001b[49m\u001b[43m)\u001b[49m \n\u001b[0;32m      5\u001b[0m \u001b[38;5;28mprint\u001b[39m(\u001b[38;5;124mf\u001b[39m\u001b[38;5;124m'\u001b[39m\u001b[38;5;124mvalue in variable b is : \u001b[39m\u001b[38;5;132;01m{\u001b[39;00mb\u001b[38;5;132;01m}\u001b[39;00m\u001b[38;5;124m , \u001b[39m\u001b[38;5;132;01m{\u001b[39;00m\u001b[38;5;28mtype\u001b[39m(b)\u001b[38;5;132;01m}\u001b[39;00m\u001b[38;5;124m'\u001b[39m)\n",
      "\u001b[1;31mTypeError\u001b[0m: float() argument must be a string or a real number, not 'complex'"
     ]
    }
   ],
   "source": [
    "a = 5+4j \n",
    "print(f'value in variable a is : {a} , {type(a)}')\n",
    "\n",
    "b = float(a) \n",
    "print(f'value in variable b is : {b} , {type(b)}')"
   ]
  },
  {
   "cell_type": "markdown",
   "id": "fc12719a",
   "metadata": {},
   "source": [
    "## int to string"
   ]
  },
  {
   "cell_type": "code",
   "execution_count": 34,
   "id": "63bbf52d",
   "metadata": {},
   "outputs": [
    {
     "name": "stdout",
     "output_type": "stream",
     "text": [
      "value in variable a is : 5 , <class 'int'>\n",
      "value in variable b is : 5 , <class 'str'>\n"
     ]
    }
   ],
   "source": [
    "a = 5 \n",
    "print(f'value in variable a is : {a} , {type(a)}')\n",
    "\n",
    "b = str(a) \n",
    "print(f'value in variable b is : {b} , {type(b)}')"
   ]
  },
  {
   "cell_type": "markdown",
   "id": "0bd4cec4",
   "metadata": {},
   "source": [
    "## float to string"
   ]
  },
  {
   "cell_type": "code",
   "execution_count": 35,
   "id": "b0035eba",
   "metadata": {},
   "outputs": [
    {
     "name": "stdout",
     "output_type": "stream",
     "text": [
      "value in variable a is : 5.8 , <class 'float'>\n",
      "value in variable b is : 5.8 , <class 'str'>\n"
     ]
    }
   ],
   "source": [
    "a = 5.8 \n",
    "print(f'value in variable a is : {a} , {type(a)}')\n",
    "\n",
    "b = str(a) \n",
    "print(f'value in variable b is : {b} , {type(b)}')"
   ]
  },
  {
   "cell_type": "markdown",
   "id": "8805e811",
   "metadata": {},
   "source": [
    "## str to int"
   ]
  },
  {
   "cell_type": "code",
   "execution_count": 36,
   "id": "921454ae",
   "metadata": {},
   "outputs": [
    {
     "name": "stdout",
     "output_type": "stream",
     "text": [
      "value in variable a is : 1234 , <class 'str'>\n",
      "value in variable b is : 1234 , <class 'int'>\n"
     ]
    }
   ],
   "source": [
    "a =  '1234'          # string contains only numbers\n",
    "print(f'value in variable a is : {a} , {type(a)}')\n",
    "\n",
    "b = int(a) \n",
    "print(f'value in variable b is : {b} , {type(b)}')"
   ]
  },
  {
   "cell_type": "code",
   "execution_count": 37,
   "id": "3807ba4f",
   "metadata": {},
   "outputs": [
    {
     "name": "stdout",
     "output_type": "stream",
     "text": [
      "value in variable a is : -34 , <class 'str'>\n",
      "value in variable b is : -34 , <class 'int'>\n"
     ]
    }
   ],
   "source": [
    "a =  '-34'           # string contains only numbers\n",
    "print(f'value in variable a is : {a} , {type(a)}')\n",
    "\n",
    "b = int(a) \n",
    "print(f'value in variable b is : {b} , {type(b)}')"
   ]
  },
  {
   "cell_type": "code",
   "execution_count": 38,
   "id": "eb7fb58a",
   "metadata": {},
   "outputs": [
    {
     "name": "stdout",
     "output_type": "stream",
     "text": [
      "value in variable a is : -34          , <class 'str'>\n",
      "value in variable b is : -34 , <class 'int'>\n"
     ]
    }
   ],
   "source": [
    "a =  '-34         '       # string contains only numbers\n",
    "print(f'value in variable a is : {a} , {type(a)}')\n",
    "\n",
    "b = int(a) \n",
    "print(f'value in variable b is : {b} , {type(b)}')"
   ]
  },
  {
   "cell_type": "code",
   "execution_count": 39,
   "id": "656acb63",
   "metadata": {},
   "outputs": [
    {
     "name": "stdout",
     "output_type": "stream",
     "text": [
      "value in variable a is :          -34          , <class 'str'>\n",
      "value in variable b is : -34 , <class 'int'>\n"
     ]
    }
   ],
   "source": [
    "a =  '         -34         ' # string contains only numbers\n",
    "print(f'value in variable a is : {a} , {type(a)}')\n",
    "\n",
    "b = int(a) \n",
    "print(f'value in variable b is : {b} , {type(b)}')"
   ]
  },
  {
   "cell_type": "code",
   "execution_count": 40,
   "id": "7a3fe45d",
   "metadata": {},
   "outputs": [
    {
     "name": "stdout",
     "output_type": "stream",
     "text": [
      "value in variable a is : -3 4          , <class 'str'>\n"
     ]
    },
    {
     "ename": "ValueError",
     "evalue": "invalid literal for int() with base 10: '-3 4         '",
     "output_type": "error",
     "traceback": [
      "\u001b[1;31m---------------------------------------------------------------------------\u001b[0m",
      "\u001b[1;31mValueError\u001b[0m                                Traceback (most recent call last)",
      "Input \u001b[1;32mIn [40]\u001b[0m, in \u001b[0;36m<cell line: 4>\u001b[1;34m()\u001b[0m\n\u001b[0;32m      1\u001b[0m a \u001b[38;5;241m=\u001b[39m  \u001b[38;5;124m'\u001b[39m\u001b[38;5;124m-3 4         \u001b[39m\u001b[38;5;124m'\u001b[39m\n\u001b[0;32m      2\u001b[0m \u001b[38;5;28mprint\u001b[39m(\u001b[38;5;124mf\u001b[39m\u001b[38;5;124m'\u001b[39m\u001b[38;5;124mvalue in variable a is : \u001b[39m\u001b[38;5;132;01m{\u001b[39;00ma\u001b[38;5;132;01m}\u001b[39;00m\u001b[38;5;124m , \u001b[39m\u001b[38;5;132;01m{\u001b[39;00m\u001b[38;5;28mtype\u001b[39m(a)\u001b[38;5;132;01m}\u001b[39;00m\u001b[38;5;124m'\u001b[39m)\n\u001b[1;32m----> 4\u001b[0m b \u001b[38;5;241m=\u001b[39m \u001b[38;5;28;43mint\u001b[39;49m\u001b[43m(\u001b[49m\u001b[43ma\u001b[49m\u001b[43m)\u001b[49m \n\u001b[0;32m      5\u001b[0m \u001b[38;5;28mprint\u001b[39m(\u001b[38;5;124mf\u001b[39m\u001b[38;5;124m'\u001b[39m\u001b[38;5;124mvalue in variable b is : \u001b[39m\u001b[38;5;132;01m{\u001b[39;00mb\u001b[38;5;132;01m}\u001b[39;00m\u001b[38;5;124m , \u001b[39m\u001b[38;5;132;01m{\u001b[39;00m\u001b[38;5;28mtype\u001b[39m(b)\u001b[38;5;132;01m}\u001b[39;00m\u001b[38;5;124m'\u001b[39m)\n",
      "\u001b[1;31mValueError\u001b[0m: invalid literal for int() with base 10: '-3 4         '"
     ]
    }
   ],
   "source": [
    "a =  '-3 4         '     # string contains only numbers\n",
    "print(f'value in variable a is : {a} , {type(a)}')\n",
    "\n",
    "b = int(a) \n",
    "print(f'value in variable b is : {b} , {type(b)}')"
   ]
  },
  {
   "cell_type": "code",
   "execution_count": 41,
   "id": "4a200ab2",
   "metadata": {},
   "outputs": [
    {
     "name": "stdout",
     "output_type": "stream",
     "text": [
      "value in variable a is : 1267h , <class 'str'>\n"
     ]
    },
    {
     "ename": "ValueError",
     "evalue": "invalid literal for int() with base 10: '1267h'",
     "output_type": "error",
     "traceback": [
      "\u001b[1;31m---------------------------------------------------------------------------\u001b[0m",
      "\u001b[1;31mValueError\u001b[0m                                Traceback (most recent call last)",
      "Input \u001b[1;32mIn [41]\u001b[0m, in \u001b[0;36m<cell line: 4>\u001b[1;34m()\u001b[0m\n\u001b[0;32m      1\u001b[0m a \u001b[38;5;241m=\u001b[39m  \u001b[38;5;124m'\u001b[39m\u001b[38;5;124m1267h\u001b[39m\u001b[38;5;124m'\u001b[39m\n\u001b[0;32m      2\u001b[0m \u001b[38;5;28mprint\u001b[39m(\u001b[38;5;124mf\u001b[39m\u001b[38;5;124m'\u001b[39m\u001b[38;5;124mvalue in variable a is : \u001b[39m\u001b[38;5;132;01m{\u001b[39;00ma\u001b[38;5;132;01m}\u001b[39;00m\u001b[38;5;124m , \u001b[39m\u001b[38;5;132;01m{\u001b[39;00m\u001b[38;5;28mtype\u001b[39m(a)\u001b[38;5;132;01m}\u001b[39;00m\u001b[38;5;124m'\u001b[39m)\n\u001b[1;32m----> 4\u001b[0m b \u001b[38;5;241m=\u001b[39m \u001b[38;5;28;43mint\u001b[39;49m\u001b[43m(\u001b[49m\u001b[43ma\u001b[49m\u001b[43m)\u001b[49m \n\u001b[0;32m      5\u001b[0m \u001b[38;5;28mprint\u001b[39m(\u001b[38;5;124mf\u001b[39m\u001b[38;5;124m'\u001b[39m\u001b[38;5;124mvalue in variable b is : \u001b[39m\u001b[38;5;132;01m{\u001b[39;00mb\u001b[38;5;132;01m}\u001b[39;00m\u001b[38;5;124m , \u001b[39m\u001b[38;5;132;01m{\u001b[39;00m\u001b[38;5;28mtype\u001b[39m(b)\u001b[38;5;132;01m}\u001b[39;00m\u001b[38;5;124m'\u001b[39m)\n",
      "\u001b[1;31mValueError\u001b[0m: invalid literal for int() with base 10: '1267h'"
     ]
    }
   ],
   "source": [
    "a =  '1267h'   # string contains only numbers\n",
    "print(f'value in variable a is : {a} , {type(a)}')\n",
    "\n",
    "b = int(a) \n",
    "print(f'value in variable b is : {b} , {type(b)}')"
   ]
  },
  {
   "cell_type": "markdown",
   "id": "44c0ec46",
   "metadata": {},
   "source": [
    "## str to float"
   ]
  },
  {
   "cell_type": "code",
   "execution_count": 43,
   "id": "7c7b5524",
   "metadata": {},
   "outputs": [
    {
     "name": "stdout",
     "output_type": "stream",
     "text": [
      "value in variable a is : 34.56 , <class 'str'>\n",
      "value in variable b is : 34.56 , <class 'float'>\n"
     ]
    }
   ],
   "source": [
    "a =  '34.56'   # string contains only numbers\n",
    "print(f'value in variable a is : {a} , {type(a)}')\n",
    "\n",
    "b = float(a) \n",
    "print(f'value in variable b is : {b} , {type(b)}')"
   ]
  },
  {
   "cell_type": "code",
   "execution_count": 44,
   "id": "4ef9b726",
   "metadata": {},
   "outputs": [
    {
     "name": "stdout",
     "output_type": "stream",
     "text": [
      "value in variable a is :     34.56     , <class 'str'>\n",
      "value in variable b is : 34.56 , <class 'float'>\n"
     ]
    }
   ],
   "source": [
    "a =  '    34.56    '   # string contains only numbers\n",
    "print(f'value in variable a is : {a} , {type(a)}')\n",
    "\n",
    "b = float(a) \n",
    "print(f'value in variable b is : {b} , {type(b)}')"
   ]
  },
  {
   "cell_type": "code",
   "execution_count": 45,
   "id": "07270ea3",
   "metadata": {},
   "outputs": [
    {
     "name": "stdout",
     "output_type": "stream",
     "text": [
      "value in variable a is : 34. 56 , <class 'str'>\n"
     ]
    },
    {
     "ename": "ValueError",
     "evalue": "could not convert string to float: '34. 56'",
     "output_type": "error",
     "traceback": [
      "\u001b[1;31m---------------------------------------------------------------------------\u001b[0m",
      "\u001b[1;31mValueError\u001b[0m                                Traceback (most recent call last)",
      "Input \u001b[1;32mIn [45]\u001b[0m, in \u001b[0;36m<cell line: 4>\u001b[1;34m()\u001b[0m\n\u001b[0;32m      1\u001b[0m a \u001b[38;5;241m=\u001b[39m  \u001b[38;5;124m'\u001b[39m\u001b[38;5;124m34. 56\u001b[39m\u001b[38;5;124m'\u001b[39m   \u001b[38;5;66;03m# string contains only numbers\u001b[39;00m\n\u001b[0;32m      2\u001b[0m \u001b[38;5;28mprint\u001b[39m(\u001b[38;5;124mf\u001b[39m\u001b[38;5;124m'\u001b[39m\u001b[38;5;124mvalue in variable a is : \u001b[39m\u001b[38;5;132;01m{\u001b[39;00ma\u001b[38;5;132;01m}\u001b[39;00m\u001b[38;5;124m , \u001b[39m\u001b[38;5;132;01m{\u001b[39;00m\u001b[38;5;28mtype\u001b[39m(a)\u001b[38;5;132;01m}\u001b[39;00m\u001b[38;5;124m'\u001b[39m)\n\u001b[1;32m----> 4\u001b[0m b \u001b[38;5;241m=\u001b[39m \u001b[38;5;28;43mfloat\u001b[39;49m\u001b[43m(\u001b[49m\u001b[43ma\u001b[49m\u001b[43m)\u001b[49m \n\u001b[0;32m      5\u001b[0m \u001b[38;5;28mprint\u001b[39m(\u001b[38;5;124mf\u001b[39m\u001b[38;5;124m'\u001b[39m\u001b[38;5;124mvalue in variable b is : \u001b[39m\u001b[38;5;132;01m{\u001b[39;00mb\u001b[38;5;132;01m}\u001b[39;00m\u001b[38;5;124m , \u001b[39m\u001b[38;5;132;01m{\u001b[39;00m\u001b[38;5;28mtype\u001b[39m(b)\u001b[38;5;132;01m}\u001b[39;00m\u001b[38;5;124m'\u001b[39m)\n",
      "\u001b[1;31mValueError\u001b[0m: could not convert string to float: '34. 56'"
     ]
    }
   ],
   "source": [
    "a =  '34. 56'   # string contains only numbers\n",
    "print(f'value in variable a is : {a} , {type(a)}')\n",
    "\n",
    "b = float(a) \n",
    "print(f'value in variable b is : {b} , {type(b)}')"
   ]
  },
  {
   "cell_type": "code",
   "execution_count": 46,
   "id": "316326a4",
   "metadata": {},
   "outputs": [
    {
     "name": "stdout",
     "output_type": "stream",
     "text": [
      "value in variable a is : hi , <class 'str'>\n"
     ]
    },
    {
     "ename": "ValueError",
     "evalue": "could not convert string to float: 'hi'",
     "output_type": "error",
     "traceback": [
      "\u001b[1;31m---------------------------------------------------------------------------\u001b[0m",
      "\u001b[1;31mValueError\u001b[0m                                Traceback (most recent call last)",
      "Input \u001b[1;32mIn [46]\u001b[0m, in \u001b[0;36m<cell line: 4>\u001b[1;34m()\u001b[0m\n\u001b[0;32m      1\u001b[0m a \u001b[38;5;241m=\u001b[39m  \u001b[38;5;124m'\u001b[39m\u001b[38;5;124mhi\u001b[39m\u001b[38;5;124m'\u001b[39m   \u001b[38;5;66;03m# string contains only numbers\u001b[39;00m\n\u001b[0;32m      2\u001b[0m \u001b[38;5;28mprint\u001b[39m(\u001b[38;5;124mf\u001b[39m\u001b[38;5;124m'\u001b[39m\u001b[38;5;124mvalue in variable a is : \u001b[39m\u001b[38;5;132;01m{\u001b[39;00ma\u001b[38;5;132;01m}\u001b[39;00m\u001b[38;5;124m , \u001b[39m\u001b[38;5;132;01m{\u001b[39;00m\u001b[38;5;28mtype\u001b[39m(a)\u001b[38;5;132;01m}\u001b[39;00m\u001b[38;5;124m'\u001b[39m)\n\u001b[1;32m----> 4\u001b[0m b \u001b[38;5;241m=\u001b[39m \u001b[38;5;28;43mfloat\u001b[39;49m\u001b[43m(\u001b[49m\u001b[43ma\u001b[49m\u001b[43m)\u001b[49m \n\u001b[0;32m      5\u001b[0m \u001b[38;5;28mprint\u001b[39m(\u001b[38;5;124mf\u001b[39m\u001b[38;5;124m'\u001b[39m\u001b[38;5;124mvalue in variable b is : \u001b[39m\u001b[38;5;132;01m{\u001b[39;00mb\u001b[38;5;132;01m}\u001b[39;00m\u001b[38;5;124m , \u001b[39m\u001b[38;5;132;01m{\u001b[39;00m\u001b[38;5;28mtype\u001b[39m(b)\u001b[38;5;132;01m}\u001b[39;00m\u001b[38;5;124m'\u001b[39m)\n",
      "\u001b[1;31mValueError\u001b[0m: could not convert string to float: 'hi'"
     ]
    }
   ],
   "source": [
    "a =  'hi'   # string contains only numbers\n",
    "print(f'value in variable a is : {a} , {type(a)}')\n",
    "\n",
    "b = float(a) \n",
    "print(f'value in variable b is : {b} , {type(b)}')"
   ]
  },
  {
   "cell_type": "code",
   "execution_count": 47,
   "id": "0d529dfe",
   "metadata": {},
   "outputs": [
    {
     "name": "stdout",
     "output_type": "stream",
     "text": [
      "value in variable a is : 34.56 , <class 'str'>\n"
     ]
    },
    {
     "ename": "ValueError",
     "evalue": "invalid literal for int() with base 10: '34.56'",
     "output_type": "error",
     "traceback": [
      "\u001b[1;31m---------------------------------------------------------------------------\u001b[0m",
      "\u001b[1;31mValueError\u001b[0m                                Traceback (most recent call last)",
      "Input \u001b[1;32mIn [47]\u001b[0m, in \u001b[0;36m<cell line: 4>\u001b[1;34m()\u001b[0m\n\u001b[0;32m      1\u001b[0m a \u001b[38;5;241m=\u001b[39m  \u001b[38;5;124m'\u001b[39m\u001b[38;5;124m34.56\u001b[39m\u001b[38;5;124m'\u001b[39m   \u001b[38;5;66;03m# string contains only numbers\u001b[39;00m\n\u001b[0;32m      2\u001b[0m \u001b[38;5;28mprint\u001b[39m(\u001b[38;5;124mf\u001b[39m\u001b[38;5;124m'\u001b[39m\u001b[38;5;124mvalue in variable a is : \u001b[39m\u001b[38;5;132;01m{\u001b[39;00ma\u001b[38;5;132;01m}\u001b[39;00m\u001b[38;5;124m , \u001b[39m\u001b[38;5;132;01m{\u001b[39;00m\u001b[38;5;28mtype\u001b[39m(a)\u001b[38;5;132;01m}\u001b[39;00m\u001b[38;5;124m'\u001b[39m)\n\u001b[1;32m----> 4\u001b[0m b \u001b[38;5;241m=\u001b[39m \u001b[38;5;28;43mint\u001b[39;49m\u001b[43m(\u001b[49m\u001b[43ma\u001b[49m\u001b[43m)\u001b[49m \n\u001b[0;32m      5\u001b[0m \u001b[38;5;28mprint\u001b[39m(\u001b[38;5;124mf\u001b[39m\u001b[38;5;124m'\u001b[39m\u001b[38;5;124mvalue in variable b is : \u001b[39m\u001b[38;5;132;01m{\u001b[39;00mb\u001b[38;5;132;01m}\u001b[39;00m\u001b[38;5;124m , \u001b[39m\u001b[38;5;132;01m{\u001b[39;00m\u001b[38;5;28mtype\u001b[39m(b)\u001b[38;5;132;01m}\u001b[39;00m\u001b[38;5;124m'\u001b[39m)\n",
      "\u001b[1;31mValueError\u001b[0m: invalid literal for int() with base 10: '34.56'"
     ]
    }
   ],
   "source": [
    "a =  '34.56'   # string contains only numbers\n",
    "print(f'value in variable a is : {a} , {type(a)}')\n",
    "\n",
    "b = int(a) \n",
    "print(f'value in variable b is : {b} , {type(b)}')"
   ]
  },
  {
   "cell_type": "code",
   "execution_count": 48,
   "id": "05f13690",
   "metadata": {},
   "outputs": [
    {
     "name": "stdout",
     "output_type": "stream",
     "text": [
      "value in variable a is : 34.56 , <class 'str'>\n",
      "value in variable b is : 34.56 , <class 'float'>\n",
      "value in variable c is : 34 , <class 'int'>\n"
     ]
    }
   ],
   "source": [
    "a =  '34.56'   # string contains only numbers\n",
    "print(f'value in variable a is : {a} , {type(a)}')\n",
    "\n",
    "b = float(a) \n",
    "print(f'value in variable b is : {b} , {type(b)}')\n",
    "\n",
    "c = int(b) \n",
    "print(f'value in variable c is : {c} , {type(c)}')"
   ]
  },
  {
   "cell_type": "code",
   "execution_count": 50,
   "id": "b7eaa86d",
   "metadata": {},
   "outputs": [
    {
     "data": {
      "text/plain": [
       "list"
      ]
     },
     "execution_count": 50,
     "metadata": {},
     "output_type": "execute_result"
    }
   ],
   "source": [
    "a = [1,2,3]\n",
    "type(a)"
   ]
  },
  {
   "cell_type": "code",
   "execution_count": 51,
   "id": "2b6716f4",
   "metadata": {},
   "outputs": [
    {
     "data": {
      "text/plain": [
       "tuple"
      ]
     },
     "execution_count": 51,
     "metadata": {},
     "output_type": "execute_result"
    }
   ],
   "source": [
    "b = (3,4,5)\n",
    "type(b)"
   ]
  },
  {
   "cell_type": "code",
   "execution_count": 52,
   "id": "f2766634",
   "metadata": {},
   "outputs": [
    {
     "data": {
      "text/plain": [
       "(1, 2, 3)"
      ]
     },
     "execution_count": 52,
     "metadata": {},
     "output_type": "execute_result"
    }
   ],
   "source": [
    "a = [1,2,3]\n",
    "tuple(a)"
   ]
  },
  {
   "cell_type": "code",
   "execution_count": null,
   "id": "b32dded1",
   "metadata": {},
   "outputs": [],
   "source": []
  },
  {
   "cell_type": "code",
   "execution_count": null,
   "id": "78b3edc8",
   "metadata": {},
   "outputs": [],
   "source": []
  },
  {
   "cell_type": "code",
   "execution_count": 53,
   "id": "7f53172d",
   "metadata": {},
   "outputs": [
    {
     "data": {
      "text/plain": [
       "'\\n'"
      ]
     },
     "execution_count": 53,
     "metadata": {},
     "output_type": "execute_result"
    }
   ],
   "source": [
    "'\\n'"
   ]
  },
  {
   "cell_type": "code",
   "execution_count": 54,
   "id": "058d177d",
   "metadata": {},
   "outputs": [
    {
     "name": "stdout",
     "output_type": "stream",
     "text": [
      "DFGHJKIUYT  \n",
      " DFGHJXCVBNM\n"
     ]
    }
   ],
   "source": [
    "print('DFGHJKIUYT  \\n DFGHJXCVBNM')"
   ]
  },
  {
   "cell_type": "code",
   "execution_count": 55,
   "id": "7bb44477",
   "metadata": {},
   "outputs": [
    {
     "data": {
      "text/plain": [
       "'DFGHJKIUYT  \\n DFGHJXCVBNM'"
      ]
     },
     "execution_count": 55,
     "metadata": {},
     "output_type": "execute_result"
    }
   ],
   "source": [
    "'DFGHJKIUYT  \\n DFGHJXCVBNM'"
   ]
  },
  {
   "cell_type": "code",
   "execution_count": 60,
   "id": "591ec059",
   "metadata": {},
   "outputs": [
    {
     "name": "stdout",
     "output_type": "stream",
     "text": [
      "DFGHJKIUYT  \\n DFGHJXCVBNM\n"
     ]
    }
   ],
   "source": [
    "print('DFGHJKIUYT  \\\\n DFGHJXCVBNM')"
   ]
  },
  {
   "cell_type": "code",
   "execution_count": null,
   "id": "e7e07efa",
   "metadata": {},
   "outputs": [],
   "source": [
    "print('DFGHJKIUYT  top\\'n town DFGHJXCVBNM')"
   ]
  },
  {
   "cell_type": "code",
   "execution_count": null,
   "id": "4028b9ad",
   "metadata": {},
   "outputs": [],
   "source": []
  },
  {
   "cell_type": "code",
   "execution_count": null,
   "id": "63f792a7",
   "metadata": {},
   "outputs": [],
   "source": []
  },
  {
   "cell_type": "code",
   "execution_count": null,
   "id": "2b8635ec",
   "metadata": {},
   "outputs": [],
   "source": []
  },
  {
   "cell_type": "code",
   "execution_count": null,
   "id": "43886243",
   "metadata": {},
   "outputs": [],
   "source": []
  },
  {
   "cell_type": "code",
   "execution_count": null,
   "id": "a10be0ab",
   "metadata": {},
   "outputs": [],
   "source": []
  },
  {
   "cell_type": "code",
   "execution_count": null,
   "id": "c8b5a428",
   "metadata": {},
   "outputs": [],
   "source": []
  },
  {
   "cell_type": "code",
   "execution_count": null,
   "id": "b372ebe8",
   "metadata": {},
   "outputs": [],
   "source": []
  },
  {
   "cell_type": "code",
   "execution_count": null,
   "id": "c448bf95",
   "metadata": {},
   "outputs": [],
   "source": []
  },
  {
   "cell_type": "code",
   "execution_count": null,
   "id": "cafc6cdc",
   "metadata": {},
   "outputs": [],
   "source": []
  },
  {
   "cell_type": "code",
   "execution_count": null,
   "id": "60c7f232",
   "metadata": {},
   "outputs": [],
   "source": []
  },
  {
   "cell_type": "code",
   "execution_count": null,
   "id": "53c5c7a5",
   "metadata": {},
   "outputs": [],
   "source": []
  },
  {
   "cell_type": "code",
   "execution_count": null,
   "id": "8a698656",
   "metadata": {},
   "outputs": [],
   "source": []
  },
  {
   "cell_type": "code",
   "execution_count": null,
   "id": "5e18bec4",
   "metadata": {},
   "outputs": [],
   "source": []
  },
  {
   "cell_type": "code",
   "execution_count": null,
   "id": "551201a3",
   "metadata": {},
   "outputs": [],
   "source": []
  },
  {
   "cell_type": "code",
   "execution_count": 56,
   "id": "a7c20fa6",
   "metadata": {},
   "outputs": [
    {
     "data": {
      "text/plain": [
       "complex"
      ]
     },
     "execution_count": 56,
     "metadata": {},
     "output_type": "execute_result"
    }
   ],
   "source": [
    "type(4j)"
   ]
  },
  {
   "cell_type": "code",
   "execution_count": 57,
   "id": "2fbd4a98",
   "metadata": {},
   "outputs": [
    {
     "data": {
      "text/plain": [
       "4j"
      ]
     },
     "execution_count": 57,
     "metadata": {},
     "output_type": "execute_result"
    }
   ],
   "source": [
    "j4 = 4j\n",
    "j4"
   ]
  },
  {
   "cell_type": "code",
   "execution_count": 58,
   "id": "6e7b7e17",
   "metadata": {},
   "outputs": [
    {
     "data": {
      "text/plain": [
       "['A', 2, 3.5]"
      ]
     },
     "execution_count": 58,
     "metadata": {},
     "output_type": "execute_result"
    }
   ],
   "source": [
    "s = ['A', 2,3.5]\n",
    "s"
   ]
  },
  {
   "cell_type": "code",
   "execution_count": 59,
   "id": "73796ee9",
   "metadata": {},
   "outputs": [
    {
     "data": {
      "text/plain": [
       "('A', 2, 3.5)"
      ]
     },
     "execution_count": 59,
     "metadata": {},
     "output_type": "execute_result"
    }
   ],
   "source": [
    "tuple(s)"
   ]
  },
  {
   "cell_type": "code",
   "execution_count": null,
   "id": "fa690680",
   "metadata": {},
   "outputs": [],
   "source": []
  },
  {
   "cell_type": "code",
   "execution_count": null,
   "id": "165e6488",
   "metadata": {},
   "outputs": [],
   "source": []
  },
  {
   "cell_type": "code",
   "execution_count": null,
   "id": "0edead27",
   "metadata": {},
   "outputs": [],
   "source": []
  },
  {
   "cell_type": "code",
   "execution_count": null,
   "id": "1ad9ad50",
   "metadata": {},
   "outputs": [],
   "source": []
  },
  {
   "cell_type": "code",
   "execution_count": null,
   "id": "5a48d686",
   "metadata": {},
   "outputs": [],
   "source": []
  },
  {
   "cell_type": "code",
   "execution_count": null,
   "id": "1d53277f",
   "metadata": {},
   "outputs": [],
   "source": []
  },
  {
   "cell_type": "code",
   "execution_count": null,
   "id": "625f611e",
   "metadata": {},
   "outputs": [],
   "source": []
  },
  {
   "cell_type": "code",
   "execution_count": null,
   "id": "6f4e2a9b",
   "metadata": {},
   "outputs": [],
   "source": []
  },
  {
   "cell_type": "code",
   "execution_count": null,
   "id": "5089dbd4",
   "metadata": {},
   "outputs": [],
   "source": []
  },
  {
   "cell_type": "code",
   "execution_count": null,
   "id": "e41fe71c",
   "metadata": {},
   "outputs": [],
   "source": []
  },
  {
   "cell_type": "code",
   "execution_count": null,
   "id": "c41c1019",
   "metadata": {},
   "outputs": [],
   "source": []
  },
  {
   "cell_type": "code",
   "execution_count": null,
   "id": "e1a6a7ea",
   "metadata": {},
   "outputs": [],
   "source": []
  },
  {
   "cell_type": "code",
   "execution_count": null,
   "id": "f16b781d",
   "metadata": {},
   "outputs": [],
   "source": []
  },
  {
   "cell_type": "code",
   "execution_count": null,
   "id": "b1d3874f",
   "metadata": {},
   "outputs": [],
   "source": []
  },
  {
   "cell_type": "code",
   "execution_count": null,
   "id": "2f68f672",
   "metadata": {},
   "outputs": [],
   "source": []
  },
  {
   "cell_type": "code",
   "execution_count": null,
   "id": "3e14be20",
   "metadata": {},
   "outputs": [],
   "source": []
  }
 ],
 "metadata": {
  "kernelspec": {
   "display_name": "Python 3 (ipykernel)",
   "language": "python",
   "name": "python3"
  },
  "language_info": {
   "codemirror_mode": {
    "name": "ipython",
    "version": 3
   },
   "file_extension": ".py",
   "mimetype": "text/x-python",
   "name": "python",
   "nbconvert_exporter": "python",
   "pygments_lexer": "ipython3",
   "version": "3.10.6"
  }
 },
 "nbformat": 4,
 "nbformat_minor": 5
}
